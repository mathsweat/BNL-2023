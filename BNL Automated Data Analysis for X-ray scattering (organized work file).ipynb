{
 "cells": [
  {
   "cell_type": "code",
   "execution_count": 2,
   "id": "e00246bb",
   "metadata": {},
   "outputs": [],
   "source": [
    "import matplotlib.pyplot as plt\n",
    "import numpy as np\n",
    "from PIL import Image\n",
    "\n",
    "from scipy.signal import find_peaks\n",
    "\n",
    "import cv2 as cv"
   ]
  },
  {
   "cell_type": "code",
   "execution_count": 3,
   "id": "55a88211",
   "metadata": {},
   "outputs": [
    {
     "data": {
      "text/plain": [
       "[<matplotlib.lines.Line2D at 0x1d9d32dafd0>]"
      ]
     },
     "execution_count": 3,
     "metadata": {},
     "output_type": "execute_result"
    },
    {
     "data": {
      "image/png": "[encoded data removed]",
      "text/plain": [
       "<Figure size 432x288 with 1 Axes>"
      ]
     },
     "metadata": {
      "needs_background": "light"
     },
     "output_type": "display_data"
    }
   ],
   "source": [
    "img = Image.open(r\"C:\\Users\\Bradley\\Videos\\New folder\\AgBH_cali_5m_13.5kev_2_1961.7s_RH661.032_x0.300_th0.000_5.00s_458795_waxs.tiff\")\n",
    "#for the image you just insert the file path. On Windows 10 this is found by left clicking once on an image and then going above it and finding where it says \"copy path\"\n",
    "#take the path and insert it (with the quotations included) after r into the Image.open(r) function\n",
    "#so like \"Image.open(r\"C:\\filename\")\n",
    "img1 = img.convert('I') # 'I' : 32-bit integer pixels\n",
    "img1.show()\n",
    "\n",
    "data = ( np.copy( np.asarray(img1) ) ).astype(float) #I am unsure what data is actually getting and what the peaks are\n",
    "plt.imshow(data)\n",
    "plt.plot(data[0,:])"
   ]
  },
  {
   "cell_type": "code",
   "execution_count": 4,
   "id": "5bed9680",
   "metadata": {},
   "outputs": [],
   "source": [
    "smallest_num=2.2250738585072014*10**(-306) #2.2250738585072014*10**(-308) is the smallest positive number in python by I will just increase this number by 100 times. \n",
    "#I don't want for the logarithm to have issue computing with a number so close to the minnimum.\n",
    "data_log = np.log10(data+2+smallest_num) #np.min(img)=-2 so the lowest data point in the image (the 2d array representing the image values) is -2. \n",
    "#log base 10 has domain: x>0 for x in R so we want to add over 2 in order to plot. \n",
    "#I will go as close to 2 as possbile to minnimize the amount the graph is transformed from the orginal \n",
    "#(which we had certain values we couldn't plot so the whole thing wouldn't plot)."
   ]
  },
  {
   "cell_type": "code",
   "execution_count": 5,
   "id": "6a67d294",
   "metadata": {},
   "outputs": [
    {
     "data": {
      "text/plain": [
       "[<matplotlib.lines.Line2D at 0x1d9d3a2e700>]"
      ]
     },
     "execution_count": 5,
     "metadata": {},
     "output_type": "execute_result"
    },
    {
     "data": {
      "image/png": "[encoded data removed]",
      "text/plain": [
       "<Figure size 432x288 with 1 Axes>"
      ]
     },
     "metadata": {
      "needs_background": "light"
     },
     "output_type": "display_data"
    }
   ],
   "source": [
    "plt.plot(data_log[0,:])"
   ]
  },
  {
   "cell_type": "code",
   "execution_count": 6,
   "id": "0fd583a8",
   "metadata": {},
   "outputs": [],
   "source": [
    "img2 = np.asarray(Image.open(\"/Users/Bradley/Videos/New folder/AgBH_cali_5m_13.5kev_2_1961.7s_RH661.032_x0.300_th0.000_5.00s_458795_waxs.tiff\"))\n",
    "# for numpy version of file all backslashes turned in forward slashes. Also no \"r\" and C: as shown in cell 1."
   ]
  },
  {
   "cell_type": "code",
   "execution_count": 12,
   "id": "fe7e9c3f",
   "metadata": {},
   "outputs": [
    {
     "name": "stdout",
     "output_type": "stream",
     "text": [
      "[[102 116 100 ... 322 314 306]\n",
      " [106 104 120 ... 343 331 307]\n",
      " [ 95 124 107 ... 383 334 281]\n",
      " ...\n",
      " [ -2  -2  -2 ... 153 188 176]\n",
      " [ -2  -2  -2 ... 160 159 161]\n",
      " [ -2  -2  -2 ... 182 147 155]]\n",
      "\n",
      "array size (row amount): 1043 (column amount): 981\n"
     ]
    }
   ],
   "source": [
    "print(img2) #Each inner list represents a row.\n",
    "#repr() just gives a printable version of the object (the img2 array in this case)\n",
    "print()\n",
    "print(\"array size (row amount): \"+str(len(img2))+\" (column amount): \"+str(len(img2[0]))) #len(img2[0]) used since it is rectangular\n",
    "#amount of arrays in the 2D array- which should tell us the row number. The column number is also given. Basically the dimensions of our image.\n",
    "#negative value are the missing parts of the image which have no intensity value. Also the image being put on my computer can slightly corrupt it so it makes more gaps and thus more negative values."
   ]
  },
  {
   "cell_type": "code",
   "execution_count": 13,
   "id": "fb36cbb4",
   "metadata": {},
   "outputs": [
    {
     "name": "stdout",
     "output_type": "stream",
     "text": [
      "[ 102  116  100  121  120  115  114  100  110  113  117  130  115  118\n",
      "  116  115  119  102  121  129  125  120  122  116  114  117  115  121\n",
      "  116  125  152  112  136  102  111  129  112  133  134  125  109  137\n",
      "  123  126  135  111  118  134  127  120  130  125  124  117  123  131\n",
      "  144  128  129  127  132  138  133  129  138  142  127  131  136  149\n",
      "  143  146  140  139  117  135  148  132  149  137  121  134  143  124\n",
      "  123  129  120  119  147  130  155  147  135  155  154  164  144  140\n",
      "  156  144  145  150  140  149  166  130  139  155  150  153  135  138\n",
      "  135  158  161  140  167  153  146  165  141  144  149  169  148  180\n",
      "  153  146  156  142  165  162  173  163  166  153  153  167  156  172\n",
      "  166  163  160  178  157  184  163  171  177  145  182  183  179  176\n",
      "  201  178  187  184  157  187  186  197  200  198  217  233  287  340\n",
      "  430  503  543  544  546  538  547  556  528  557  539  561  547  532\n",
      "  529  527  555  537  572  536  546  548  527  536  562  547  548  548\n",
      "  537  556  542  535  545  517  537  533  564  553  524  553  510  530\n",
      "  551  548  576  544  551  508  544  544  597  568  571  572  566  593\n",
      "  551  584  580  583  562  556  570  573  576  539  521  554  531  540\n",
      "  524  553  492  541  504  507  509  546  498  497  524  498  512  526\n",
      "  524  529  531  525  490  516  556  546  589  597  552  519  584  551\n",
      "  565  561  543  562  585  588  587  555  548  529  559  531  550  554\n",
      "  536  546  486  494  510  496  519  527  512  501  525  518  524  519\n",
      "  527  555  532  528  552  574  553  581  593  559  557  558  540  545\n",
      "  573  609  581  597  584  594  626  615  646  641  616  608  616  613\n",
      "  595  596  643  624  609  594  564  618  601  596  572  597  572  591\n",
      "  580  566  549  579  569  573  596  571  558  545  559  577  567  554\n",
      "  554  552  559  558  544  532  520  571  552  537  536  561  556  539\n",
      "  572  566  560  573  566  509  552  530  555  544  522  523  542  542\n",
      "  547  560  567  554  551  520  559  558  522  544  529  509  564  538\n",
      "  534  536  532  550  553  538  555  562  551  544  598  574  517  547\n",
      "  567  580  539  515  537  550  533  538  547  532  552  559  565  562\n",
      "  561  523  563  557  526  541  546  550  555  529  575  538  564  597\n",
      "  557  581  556  546  586  555  571  558  568  570  589  591  514  584\n",
      "  590  619  579  587  563  564  574  592  598  544  570  560  588  557\n",
      "  601  565  581  576  573  552  534  526  560  602  548  610  592  541\n",
      "  579  580  563  586  572  567  586  570  551  518  529   -1   -1   -1\n",
      "   -1   -1   -1   -1  474  514  544  531  530  548  566  528  546  543\n",
      "  579  512  532  573  590  550  555  538  563  550  548  571  547  521\n",
      "  535  518  566  563  549  535  554  557  541  548  551  522  547  531\n",
      "  562  541  535  530  556  541  561  529  556  556  536  550  532  527\n",
      "  528  507  500  510  571  545  540  509  511  512  538  554  532  504\n",
      "  542  539  538  515  528  508  549  537  569  508  567  525  561  544\n",
      "  536  557  550  512  533  573  559  561  560  571  597  578  555  550\n",
      "  575  589  576  568  597  612  567  590  592  583  556  593  605  607\n",
      "  553  636  610  593  569  595  581  601  610  578  592  594  601  600\n",
      "  597  576  589  579  602  593  551  544  538  567  569  587  515  547\n",
      "  543  551  524  505  532  524  552  517  532  512  494  526  511  499\n",
      "  498  513  519  559  540  517  556  542  508  567  538  588  557  553\n",
      "  564  559  553  536  525  592  590  583  595  550  553  533  524  546\n",
      "  563  498  553  503  511  519  492  481  510  504  494  516  535  524\n",
      "  514  506  488  489  522  532  511  519  555  542  571  545  605  566\n",
      "  512  545  562  535  554  570  542  579  548  570  574  553  562  582\n",
      "  547  535  542  537  535  543  547  575  550  559  550  527  573  535\n",
      "  545  575  580  544  541  556  571  549  535  533  531  511  521  575\n",
      "  556  538  514  558  565  550  526  565  573  542  530  531  544  503\n",
      "  574  533  543  538  574  534  560  539  558  538  554  538  538  547\n",
      "  528  500  510  508  495  517  501  502  497  502  470  488  457  468\n",
      "  480  435  462  485  437  472  434  461  462  441  436  458  447  454\n",
      "  462  469  474  478  448  460  448  448  485  468  494  471  491  482\n",
      "  469  500  510 1012 1981  786  736  700  684  606  484  490  481  516\n",
      "  462  520  500  456  445  411  432  443  430  413  397  407  426  409\n",
      "  394  399  432  410  417  415  424  401  424  409  408  398  402  437\n",
      "  422  393  397  424  393  383  371  411  412  418  398  433  404  414\n",
      "  420  391  388  390  413  363  379  389  379  389  381  404  370  402\n",
      "  384  424  419  405  424  444  455  458  458  500  488  513  526  530\n",
      "  515  480  461  433  422  440  401  418  414  375  393  379  388  385\n",
      "  369  397  382  383  399  510  495  498  405  351 1356 2191  349  370\n",
      "  337  365  369  350  352  349  347  350  374  367  345  355  393  346\n",
      "  357  353  365  367  357  323  368  343  336  352  366  367  354  374\n",
      "  317  334  349  328  353  338  331  331  316  317  287  335  340  341\n",
      "  341  338  314  314  338  322  339  330  327  340  322  336  322  314\n",
      "  306]\n"
     ]
    }
   ],
   "source": [
    "print(img2[0]) #gives intensity (photon amount like light sensor) at each pixel in the top row [0] is top row of image. The frequency is the physical interpretation of this, but the computer just gives us a number to represent intensity.\n",
    "#Each pixel has one value and each row of array corresponds to each literal row across in an image"
   ]
  },
  {
   "cell_type": "code",
   "execution_count": 22,
   "id": "4b061bf1",
   "metadata": {},
   "outputs": [
    {
     "name": "stdout",
     "output_type": "stream",
     "text": [
      "Max value is: 19746\n",
      "Index of max value is: 676\n"
     ]
    },
    {
     "data": {
      "image/png": "[encoded data removed]",
      "text/plain": [
       "<Figure size 432x288 with 1 Axes>"
      ]
     },
     "metadata": {
      "needs_background": "light"
     },
     "output_type": "display_data"
    }
   ],
   "source": [
    "plt.plot(img2[:,500]) #500th column of the array\n",
    "#np.argmax(img2[:,500])\n",
    "ii=np.argmax(img2[:,500])\n",
    "ii #index of the max value in the 500th column of the array\n",
    "maxval=img2[ii,500] #the peak value\n",
    "print(\"Max value is: \"+str(maxval)+\"\\nIndex of max value is: \"+str(ii))\n"
   ]
  },
  {
   "cell_type": "code",
   "execution_count": 23,
   "id": "9d0b9602",
   "metadata": {},
   "outputs": [
    {
     "data": {
      "text/plain": [
       "array([False, False, False, ..., False, False, False])"
      ]
     },
     "execution_count": 23,
     "metadata": {},
     "output_type": "execute_result"
    }
   ],
   "source": [
    "x=img2[:,500]\n",
    "a=x>7500 #tells you if the values are above this number. True or false so boolean.\n",
    "a"
   ]
  },
  {
   "cell_type": "code",
   "execution_count": 16,
   "id": "796db439",
   "metadata": {},
   "outputs": [],
   "source": [
    "#colormaps next for clear visual"
   ]
  },
  {
   "cell_type": "code",
   "execution_count": 17,
   "id": "1ac2c597",
   "metadata": {},
   "outputs": [
    {
     "data": {
      "text/plain": [
       "<matplotlib.colorbar.Colorbar at 0x1d9d3ba7400>"
      ]
     },
     "execution_count": 17,
     "metadata": {},
     "output_type": "execute_result"
    },
    {
     "data": {
      "image/png": "[encoded data removed]",
      "text/plain": [
       "<Figure size 432x288 with 2 Axes>"
      ]
     },
     "metadata": {
      "needs_background": "light"
     },
     "output_type": "display_data"
    }
   ],
   "source": [
    "plt.imshow(img2, cmap=\"flag\")\n",
    "plt.colorbar() #the colorbar on the side has little meaning since the colors aren't dependent on scalar values of the image brightness. As shown on the bar, the same colors are repeated many times, so you can't tell their strength"
   ]
  },
  {
   "cell_type": "code",
   "execution_count": 18,
   "id": "cafc5e81",
   "metadata": {},
   "outputs": [
    {
     "data": {
      "text/plain": [
       "<matplotlib.colorbar.Colorbar at 0x1d9d3c62910>"
      ]
     },
     "execution_count": 18,
     "metadata": {},
     "output_type": "execute_result"
    },
    {
     "data": {
      "image/png": "[encoded data removed]",
      "text/plain": [
       "<Figure size 432x288 with 2 Axes>"
      ]
     },
     "metadata": {
      "needs_background": "light"
     },
     "output_type": "display_data"
    }
   ],
   "source": [
    "plt.imshow(img2, cmap=\"gist_stern\")\n",
    "plt.colorbar(label=\"scalarized point brightness\") #tells you the \"strength\" of the image at this point "
   ]
  },
  {
   "cell_type": "code",
   "execution_count": null,
   "id": "02540a30",
   "metadata": {},
   "outputs": [],
   "source": []
  }
 ],
 "metadata": {
  "kernelspec": {
   "display_name": "Python 3 (ipykernel)",
   "language": "python",
   "name": "python3"
  },
  "language_info": {
   "codemirror_mode": {
    "name": "ipython",
    "version": 3
   },
   "file_extension": ".py",
   "mimetype": "text/x-python",
   "name": "python",
   "nbconvert_exporter": "python",
   "pygments_lexer": "ipython3",
   "version": "3.9.7"
  }
 },
 "nbformat": 4,
 "nbformat_minor": 5
}
