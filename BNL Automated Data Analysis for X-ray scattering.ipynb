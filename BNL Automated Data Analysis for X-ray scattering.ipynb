{
 "cells": [
  {
   "cell_type": "code",
   "execution_count": 109,
   "id": "73b8a057",
   "metadata": {},
   "outputs": [],
   "source": [
    "#https://matplotlib.org/stable/tutorials/introductory/images.html\n",
    "#https://github.com/akmadan/matplotlib_tutorial/blob/main/IMSHOW.ipynb\n",
    "#https://www.geeksforgeeks.org/working-with-images-in-python-using-matplotlib/"
   ]
  },
  {
   "cell_type": "code",
   "execution_count": 110,
   "id": "3ca34e9e",
   "metadata": {},
   "outputs": [],
   "source": [
    "import matplotlib.pyplot as plt\n",
    "import numpy as np\n",
    "from PIL import Image\n",
    "\n",
    "from numpy import unravel_index"
   ]
  },
  {
   "cell_type": "code",
   "execution_count": 111,
   "id": "ce0bd837",
   "metadata": {},
   "outputs": [
    {
     "data": {
      "text/plain": [
       "[<matplotlib.lines.Line2D at 0x1fce9762d30>]"
      ]
     },
     "execution_count": 111,
     "metadata": {},
     "output_type": "execute_result"
    },
    {
     "data": {
      "image/png": "[encoded data removed]",
      "text/plain": [
       "<Figure size 432x288 with 1 Axes>"
      ]
     },
     "metadata": {
      "needs_background": "light"
     },
     "output_type": "display_data"
    }
   ],
   "source": [
    "img = Image.open(r\"C:\\Users\\Bradley\\Videos\\New folder\\AgBH_cali_5m_13.5kev_2_1961.7s_RH661.032_x0.300_th0.000_5.00s_458795_waxs.tiff\")\n",
    "#for the image you just insert the file path. On Windows 10 this is found by left clicking once on an image and then going above it and finding where it says \"copy path\"\n",
    "#take the path and insert it (with the quotations included) after r into the Image.open(r) function\n",
    "img1 = img.convert('I') # 'I' : 32-bit integer pixels\n",
    "img1.show()\n",
    "\n",
    "data = ( np.copy( np.asarray(img1) ) ).astype(float) #I am unsure what data is actually getting and what the peaks are\n",
    "plt.imshow(data)\n",
    "plt.plot(data[0,:])"
   ]
  },
  {
   "cell_type": "code",
   "execution_count": 112,
   "id": "57c4e828",
   "metadata": {},
   "outputs": [],
   "source": [
    "smallest_num=2.2250738585072014*10**(-306) #2.2250738585072014*10**(-308) is the smallest positive number in python by I will just increase this number by 100 times. \n",
    "#I don't want for the logarithm to have issue computing with a number so close to the minnimum.\n",
    "data_log = np.log10(data+2+smallest_num) #np.min(img)=-2 so the lowest data point in the image (the 2d array representing the image values) is -2. \n",
    "#log base 10 has domain: x>0 for x in R so we want to add over 2 in order to plot. \n",
    "#I will go as close to 2 as possbile to minnimize the amount the graph is transformed from the orginal \n",
    "#(which we had certain values we couldn't plot so the whole thing wouldn't plot)."
   ]
  },
  {
   "cell_type": "code",
   "execution_count": 113,
   "id": "2807b1ba",
   "metadata": {},
   "outputs": [
    {
     "data": {
      "text/plain": [
       "<matplotlib.image.AxesImage at 0x1fce9f64790>"
      ]
     },
     "execution_count": 113,
     "metadata": {},
     "output_type": "execute_result"
    },
    {
     "data": {
      "image/png": "[encoded data removed]",
      "text/plain": [
       "<Figure size 432x288 with 1 Axes>"
      ]
     },
     "metadata": {
      "needs_background": "light"
     },
     "output_type": "display_data"
    }
   ],
   "source": [
    "plt.imshow(data_log) #this graph seems to have no use. This being said, I am not sure so this code is being left"
   ]
  },
  {
   "cell_type": "code",
   "execution_count": 114,
   "id": "dc70bb9d",
   "metadata": {},
   "outputs": [
    {
     "data": {
      "text/plain": [
       "[<matplotlib.lines.Line2D at 0x1fcebf63910>]"
      ]
     },
     "execution_count": 114,
     "metadata": {},
     "output_type": "execute_result"
    },
    {
     "data": {
      "image/png": "[encoded data removed]",
      "text/plain": [
       "<Figure size 432x288 with 1 Axes>"
      ]
     },
     "metadata": {
      "needs_background": "light"
     },
     "output_type": "display_data"
    }
   ],
   "source": [
    "plt.plot(data_log[0,:])"
   ]
  },
  {
   "cell_type": "code",
   "execution_count": null,
   "id": "55dd1e8f",
   "metadata": {},
   "outputs": [],
   "source": []
  },
  {
   "cell_type": "code",
   "execution_count": 55,
   "id": "3fce1ba7",
   "metadata": {},
   "outputs": [],
   "source": [
    "#I need to find how to find peaks, but matplotlib can't find them with some function for some reason."
   ]
  },
  {
   "cell_type": "code",
   "execution_count": null,
   "id": "c72c1601",
   "metadata": {},
   "outputs": [],
   "source": []
  },
  {
   "cell_type": "code",
   "execution_count": 58,
   "id": "fbb06260",
   "metadata": {},
   "outputs": [
    {
     "data": {
      "text/plain": [
       "array([[   2.01703334,    2.07188201,    2.00860017, ...,    2.51054501,\n",
       "           2.49968708,    2.48855072],\n",
       "       [   2.03342376,    2.02530587,    2.08635983, ...,    2.5378191 ,\n",
       "           2.52244423,    2.48995848],\n",
       "       [   1.98677173,    2.10037055,    2.0374265 , ...,    2.58546073,\n",
       "           2.52633928,    2.45178644],\n",
       "       ...,\n",
       "       [-305.65265557, -305.65265557, -305.65265557, ...,    2.1903317 ,\n",
       "           2.2787536 ,    2.25042   ],\n",
       "       [-305.65265557, -305.65265557, -305.65265557, ...,    2.20951501,\n",
       "           2.20682588,    2.2121876 ],\n",
       "       [-305.65265557, -305.65265557, -305.65265557, ...,    2.26481782,\n",
       "           2.17318627,    2.19589965]])"
      ]
     },
     "execution_count": 58,
     "metadata": {},
     "output_type": "execute_result"
    }
   ],
   "source": [
    "np_data_log=np.array(data_log)\n",
    "np_data_log"
   ]
  },
  {
   "cell_type": "code",
   "execution_count": 75,
   "id": "d9d2aec4",
   "metadata": {},
   "outputs": [
    {
     "name": "stdout",
     "output_type": "stream",
     "text": [
      "5.96403841848071\n",
      "-305.6526555685888\n"
     ]
    }
   ],
   "source": [
    "np_data_log.shape #(rows by columns)\n",
    "print(np_data_log.max())\n",
    "print(np_data_log.min())\n",
    "#print(\"Maximum Index position: \",np_data_log.index(max(np_data_log))) "
   ]
  },
  {
   "cell_type": "code",
   "execution_count": 96,
   "id": "f08ec7a3",
   "metadata": {},
   "outputs": [
    {
     "name": "stdout",
     "output_type": "stream",
     "text": [
      "max index: 26, 550\n"
     ]
    }
   ],
   "source": [
    "#assuming no repeat at same max or min, these give the location in the array for the absolute extremas.\n",
    "target=np_data_log.max()\n",
    "for i in range(len(np_data_log)):\n",
    "    for j in range(len(np_data_log[i])):\n",
    "        if (np_data_log[i][j] == target):\n",
    "            print(\"max index: \"+str(i)+\", \"+str(j)) #won't let me return anything??? I can print though"
   ]
  },
  {
   "cell_type": "code",
   "execution_count": null,
   "id": "34b328d5",
   "metadata": {},
   "outputs": [],
   "source": [
    "target2=np_data_log.min()\n",
    "for i in range(len(np_data_log)):\n",
    "    for j in range(len(np_data_log[i])):\n",
    "        if (np_data_log[i][j] == target2):\n",
    "            print(\"min index: \"+str(i)+\", \"+str(j))\n",
    "            #WHAT IS WRONG WITH THIS CODE?????"
   ]
  },
  {
   "cell_type": "code",
   "execution_count": null,
   "id": "035634ed",
   "metadata": {},
   "outputs": [],
   "source": []
  },
  {
   "cell_type": "code",
   "execution_count": null,
   "id": "79c6f2c0",
   "metadata": {},
   "outputs": [],
   "source": [
    "#Basic image plotting and colormapping"
   ]
  },
  {
   "cell_type": "code",
   "execution_count": null,
   "id": "99a1d138",
   "metadata": {},
   "outputs": [],
   "source": []
  },
  {
   "cell_type": "code",
   "execution_count": 115,
   "id": "7e1538b3",
   "metadata": {},
   "outputs": [
    {
     "data": {
      "image/png": "[encoded data removed]",
      "text/plain": [
       "<Figure size 432x288 with 1 Axes>"
      ]
     },
     "metadata": {
      "needs_background": "light"
     },
     "output_type": "display_data"
    }
   ],
   "source": [
    "img2 = np.asarray(Image.open(\"/Users/Bradley/Videos/New folder/AgBH_cali_5m_13.5kev_2_1961.7s_RH661.032_x0.300_th0.000_5.00s_458795_waxs.tiff\"))\n",
    "# for numpy version all backslashes turned in forward slashes\n",
    "imgplot = plt.imshow(img2)"
   ]
  },
  {
   "cell_type": "code",
   "execution_count": 120,
   "id": "ff56f393",
   "metadata": {},
   "outputs": [
    {
     "name": "stdout",
     "output_type": "stream",
     "text": [
      "array([[102, 116, 100, ..., 322, 314, 306],\n",
      "       [106, 104, 120, ..., 343, 331, 307],\n",
      "       [ 95, 124, 107, ..., 383, 334, 281],\n",
      "       ...,\n",
      "       [ -2,  -2,  -2, ..., 153, 188, 176],\n",
      "       [ -2,  -2,  -2, ..., 160, 159, 161],\n",
      "       [ -2,  -2,  -2, ..., 182, 147, 155]])\n",
      "\n",
      "array size: 1043\n"
     ]
    }
   ],
   "source": [
    "print(repr(img2)) #Each inner list represents a pixel. Here, with an RGB image, there are 3 values.\n",
    "#repr() just gives a printable version of the object (the img2 array in this case)\n",
    "print()\n",
    "print(\"array size: \"+str(len(img2))) #amount of arrays in the 2D array- which should tell us the pixel amount"
   ]
  },
  {
   "cell_type": "code",
   "execution_count": 130,
   "id": "14de75ab",
   "metadata": {},
   "outputs": [
    {
     "data": {
      "text/plain": [
       "<matplotlib.image.AxesImage at 0x1fcec1e8c40>"
      ]
     },
     "execution_count": 130,
     "metadata": {},
     "output_type": "execute_result"
    },
    {
     "data": {
      "image/png": "[encoded data removed]",
      "text/plain": [
       "<Figure size 432x288 with 1 Axes>"
      ]
     },
     "metadata": {
      "needs_background": "light"
     },
     "output_type": "display_data"
    }
   ],
   "source": [
    "#\"Pseudocolor can be a useful tool for enhancing contrast and visualizing your data more easily. This is especially useful when making presentations of your data using projectors - their contrast is typically quite poor\".\n",
    "plt.imshow(lum_img2)\n",
    "#this is called viridis. It is the basic color map. lum_img2 = img[:, :,] is how it is defined and\n",
    "#plt.imshow(lum_img2, cmap=\"viridis\") is its code"
   ]
  },
  {
   "cell_type": "code",
   "execution_count": 126,
   "id": "4175dd14",
   "metadata": {},
   "outputs": [
    {
     "data": {
      "text/plain": [
       "<matplotlib.image.AxesImage at 0x1fcec0645e0>"
      ]
     },
     "execution_count": 126,
     "metadata": {},
     "output_type": "execute_result"
    },
    {
     "data": {
      "image/png": "[encoded data removed]",
      "text/plain": [
       "<Figure size 432x288 with 1 Axes>"
      ]
     },
     "metadata": {
      "needs_background": "light"
     },
     "output_type": "display_data"
    }
   ],
   "source": [
    "plt.imshow(lum_img2, cmap=\"hot\")"
   ]
  },
  {
   "cell_type": "code",
   "execution_count": 128,
   "id": "83bb1f64",
   "metadata": {},
   "outputs": [
    {
     "data": {
      "text/plain": [
       "<matplotlib.image.AxesImage at 0x1fcec123e50>"
      ]
     },
     "execution_count": 128,
     "metadata": {},
     "output_type": "execute_result"
    },
    {
     "data": {
      "image/png": "[encoded data removed]",
      "text/plain": [
       "<Figure size 432x288 with 1 Axes>"
      ]
     },
     "metadata": {
      "needs_background": "light"
     },
     "output_type": "display_data"
    }
   ],
   "source": [
    "plt.imshow(lum_img2, cmap=\"nipy_spectral\") #this map seems useful as it is the most clear"
   ]
  },
  {
   "cell_type": "code",
   "execution_count": 250,
   "id": "a1cc600d",
   "metadata": {
    "scrolled": true
   },
   "outputs": [
    {
     "data": {
      "text/plain": [
       "<matplotlib.image.AxesImage at 0x1fc9e9390a0>"
      ]
     },
     "execution_count": 250,
     "metadata": {},
     "output_type": "execute_result"
    },
    {
     "data": {
      "image/png": "[encoded data removed]",
      "text/plain": [
       "<Figure size 432x288 with 1 Axes>"
      ]
     },
     "metadata": {
      "needs_background": "light"
     },
     "output_type": "display_data"
    }
   ],
   "source": [
    "plt.imshow(lum_img2, cmap=\"gist_stern\")"
   ]
  },
  {
   "cell_type": "code",
   "execution_count": 255,
   "id": "bd2c72e4",
   "metadata": {},
   "outputs": [],
   "source": [
    "#I tried every single pre-defined color map: https://matplotlib.org/stable/tutorials/colors/colormaps.html \n",
    "#Note I didn't try to create my own maps with the array notation.\n",
    "#To get a new color from the website, paste defined name between the quotation marks\n",
    "\n",
    "\n",
    "#I am going to make a short tier list of colormaps (maps are unranked within each tier) :)\n",
    "\n",
    "# Tier 1) You can see the circle so top tier (many of these are under the miscellaneous colormaps)\n",
    "#\"flag\", \"gist_earth\", \"gist_stern\", \"gnuplot\", \"jet\", \"turbo\", \"nipy_spectral\", \"gist_ncar\"\n",
    "\n",
    "# Tier 2) Many visible points\n",
    "#\"pink\", \"hsv\", \"tab20\", \"prism\", \"terrain\"\n",
    "\n",
    "#Tier 3) Points are mostly visible but less than Tier 2\n",
    "#\"PiYG\", \"PRGn\", \"BrBG\", \"PuOr\", \"RdGy\", \"RdBu\", \"RdYlBu\",\"RdYlGn\", \"Spectral\", \"coolwarm\"\n",
    "\n",
    "\n",
    "\n",
    "#The best two are \"flag\", \"gist_stern\". I will use \"gist_stern\" in the future since the map colors don't vary much, compared to flag.\n"
   ]
  },
  {
   "cell_type": "code",
   "execution_count": 259,
   "id": "0b9ed876",
   "metadata": {},
   "outputs": [
    {
     "data": {
      "text/plain": [
       "<matplotlib.colorbar.Colorbar at 0x1fca0dc6b80>"
      ]
     },
     "execution_count": 259,
     "metadata": {},
     "output_type": "execute_result"
    },
    {
     "data": {
      "image/png": "[encoded data removed]",
      "text/plain": [
       "<Figure size 432x288 with 2 Axes>"
      ]
     },
     "metadata": {
      "needs_background": "light"
     },
     "output_type": "display_data"
    }
   ],
   "source": [
    "plt.imshow(lum_img2, cmap=\"flag\")\n",
    "plt.colorbar() #the colorbar on the side has little meaning since the colors aren't dependent on scalar values of the image brightness. As shown on the bar, the same colors are repeated many times, so you can't tell their strength"
   ]
  },
  {
   "cell_type": "code",
   "execution_count": 303,
   "id": "3d0337dd",
   "metadata": {},
   "outputs": [
    {
     "data": {
      "text/plain": [
       "<matplotlib.colorbar.Colorbar at 0x1fca8527430>"
      ]
     },
     "execution_count": 303,
     "metadata": {},
     "output_type": "execute_result"
    },
    {
     "data": {
      "image/png": "[encoded data removed]",
      "text/plain": [
       "<Figure size 432x288 with 2 Axes>"
      ]
     },
     "metadata": {
      "needs_background": "light"
     },
     "output_type": "display_data"
    }
   ],
   "source": [
    "plt.imshow(lum_img2, cmap=\"gist_stern\")\n",
    "plt.colorbar(label=\"scalarized point brightness\") #tells you the \"strength\" of the image at this point "
   ]
  },
  {
   "cell_type": "code",
   "execution_count": null,
   "id": "5a7b0824",
   "metadata": {},
   "outputs": [],
   "source": [
    "#we want to analyze a specific region of our plot.\n",
    "#We want to enhance the contrast in the image, or expand the contrast in a particular region \n",
    "#while sacrificing the detail in colors that don't vary much, or don't matter."
   ]
  },
  {
   "cell_type": "code",
   "execution_count": 278,
   "id": "7444833a",
   "metadata": {},
   "outputs": [
    {
     "data": {
      "text/plain": [
       "(array([  1.,   4.,   0.,   0.,   0.,   0.,   0.,   0.,   0.,   0.,   0.,\n",
       "          0.,   0.,   0.,   0.,   0.,   0.,   0.,   0.,   0.,   0.,   0.,\n",
       "          0.,   0.,   0.,   0.,   0.,   0.,   0.,   0.,   0.,   0.,   0.,\n",
       "          0.,   0.,   0.,   0.,   0.,   0.,   0.,   0.,   0.,   0.,   0.,\n",
       "          0.,   0.,   0.,   0.,   0.,   0.,   0.,   0.,   0.,   0.,   0.,\n",
       "          0.,   0.,   0.,   0.,   0.,   0.,   0.,   0.,   0.,   0.,   0.,\n",
       "          0.,   0.,   0.,   0.,   0.,   0.,   0.,   0.,   0.,   0.,   0.,\n",
       "          0.,   0.,   0.,   0.,   0.,   0.,   0.,   0.,   0.,   0.,   0.,\n",
       "          0.,   0.,   0.,   1.,   0.,   0.,   0.,   1.,   2.,   3.,   1.,\n",
       "          2.,   8.,   9.,   8.,   8.,   8.,   8.,  18.,  22.,  25.,  17.,\n",
       "         14.,  28.,  40.,  37.,  42.,  41.,  46.,  46.,  73.,  68.,  79.,\n",
       "         83.,  81., 106.,  93., 119., 118., 143., 133., 130., 159., 158.,\n",
       "        175., 184., 194., 220., 182., 203., 213., 213., 218., 221., 212.,\n",
       "        252., 218., 266., 221., 227., 260., 242., 246., 256., 250., 262.,\n",
       "        270., 247., 282., 270., 287., 267., 322., 295., 273., 308., 262.,\n",
       "        305., 281., 260., 284., 321., 338., 324., 277., 314., 281., 319.,\n",
       "        309., 285., 322., 350., 306., 299., 312., 345., 342., 307., 299.,\n",
       "        351., 338., 315., 348., 319., 309., 293., 340., 319., 292., 299.,\n",
       "        311., 295., 292., 323., 327., 344., 328., 318., 285., 313., 286.,\n",
       "        283., 271., 288., 308., 285., 282., 346., 284., 332., 268., 290.,\n",
       "        278., 305., 304., 297., 273., 284., 283., 250., 264., 269., 283.,\n",
       "        266., 278., 267., 263., 271., 275., 274., 277., 250., 254., 257.,\n",
       "        274., 276., 246., 269., 252., 265., 259., 262., 247., 269., 268.,\n",
       "        272., 544.]),\n",
       " array([  0,   1,   2,   3,   4,   5,   6,   7,   8,   9,  10,  11,  12,\n",
       "         13,  14,  15,  16,  17,  18,  19,  20,  21,  22,  23,  24,  25,\n",
       "         26,  27,  28,  29,  30,  31,  32,  33,  34,  35,  36,  37,  38,\n",
       "         39,  40,  41,  42,  43,  44,  45,  46,  47,  48,  49,  50,  51,\n",
       "         52,  53,  54,  55,  56,  57,  58,  59,  60,  61,  62,  63,  64,\n",
       "         65,  66,  67,  68,  69,  70,  71,  72,  73,  74,  75,  76,  77,\n",
       "         78,  79,  80,  81,  82,  83,  84,  85,  86,  87,  88,  89,  90,\n",
       "         91,  92,  93,  94,  95,  96,  97,  98,  99, 100, 101, 102, 103,\n",
       "        104, 105, 106, 107, 108, 109, 110, 111, 112, 113, 114, 115, 116,\n",
       "        117, 118, 119, 120, 121, 122, 123, 124, 125, 126, 127, 128, 129,\n",
       "        130, 131, 132, 133, 134, 135, 136, 137, 138, 139, 140, 141, 142,\n",
       "        143, 144, 145, 146, 147, 148, 149, 150, 151, 152, 153, 154, 155,\n",
       "        156, 157, 158, 159, 160, 161, 162, 163, 164, 165, 166, 167, 168,\n",
       "        169, 170, 171, 172, 173, 174, 175, 176, 177, 178, 179, 180, 181,\n",
       "        182, 183, 184, 185, 186, 187, 188, 189, 190, 191, 192, 193, 194,\n",
       "        195, 196, 197, 198, 199, 200, 201, 202, 203, 204, 205, 206, 207,\n",
       "        208, 209, 210, 211, 212, 213, 214, 215, 216, 217, 218, 219, 220,\n",
       "        221, 222, 223, 224, 225, 226, 227, 228, 229, 230, 231, 232, 233,\n",
       "        234, 235, 236, 237, 238, 239, 240, 241, 242, 243, 244, 245, 246,\n",
       "        247, 248, 249, 250, 251, 252, 253, 254, 255]),\n",
       " <BarContainer object of 255 artists>)"
      ]
     },
     "execution_count": 278,
     "metadata": {},
     "output_type": "execute_result"
    },
    {
     "data": {
      "image/png": "[encoded data removed]",
      "text/plain": [
       "<Figure size 432x288 with 1 Axes>"
      ]
     },
     "metadata": {
      "needs_background": "light"
     },
     "output_type": "display_data"
    }
   ],
   "source": [
    "plt.hist(lum_img2.ravel(), bins=range(256), fc='k', ec='k')\n",
    "#if you make the bins=range(500) then which value is maximum on the histogram changes?\n",
    "#Also, a bin is just a way of dividing up histogram data"
   ]
  },
  {
   "cell_type": "code",
   "execution_count": 284,
   "id": "1f2c8352",
   "metadata": {},
   "outputs": [
    {
     "data": {
      "text/plain": [
       "<matplotlib.image.AxesImage at 0x1fca44f5790>"
      ]
     },
     "execution_count": 284,
     "metadata": {},
     "output_type": "execute_result"
    },
    {
     "data": {
      "image/png": "[encoded data removed]",
      "text/plain": [
       "<Figure size 432x288 with 1 Axes>"
      ]
     },
     "metadata": {
      "needs_background": "light"
     },
     "output_type": "display_data"
    }
   ],
   "source": [
    "#We want to zoom in on a specific peak\n",
    "#Clim is the colormap limits you want to analyze in between.\n",
    "plt.imshow(lum_img2,cmap=\"gist_stern\",clim=(240,256))\n"
   ]
  },
  {
   "cell_type": "code",
   "execution_count": null,
   "id": "7accfb87",
   "metadata": {},
   "outputs": [],
   "source": []
  },
  {
   "cell_type": "code",
   "execution_count": null,
   "id": "bf8aad5d",
   "metadata": {},
   "outputs": [],
   "source": [
    "#Image interpolation scheme (we lose information since the pixel number needed changes when resizing images, \n",
    "#but we want the same information)\n"
   ]
  },
  {
   "cell_type": "code",
   "execution_count": null,
   "id": "a85fd99f",
   "metadata": {},
   "outputs": [],
   "source": []
  },
  {
   "cell_type": "code",
   "execution_count": 300,
   "id": "c7adbadc",
   "metadata": {},
   "outputs": [
    {
     "data": {
      "image/png": "[encoded data removed]",
      "text/plain": [
       "<Figure size 432x288 with 1 Axes>"
      ]
     },
     "metadata": {
      "needs_background": "light"
     },
     "output_type": "display_data"
    }
   ],
   "source": [
    "img = Image.open(\"/Users/Bradley/Videos/New folder/AgBH_cali_5m_13.5kev_2_1961.7s_RH661.032_x0.300_th0.000_5.00s_458795_waxs.tiff\")\n",
    "img.thumbnail((210, 210))  # resizes image in-place. I manually found 210 to be best.\n",
    "imgplot = plt.imshow(img)"
   ]
  },
  {
   "cell_type": "code",
   "execution_count": 301,
   "id": "f267c9a6",
   "metadata": {},
   "outputs": [
    {
     "data": {
      "image/png": "[encoded data removed]",
      "text/plain": [
       "<Figure size 432x288 with 1 Axes>"
      ]
     },
     "metadata": {
      "needs_background": "light"
     },
     "output_type": "display_data"
    }
   ],
   "source": [
    "imgplot = plt.imshow(img, interpolation=\"bilinear\")"
   ]
  },
  {
   "cell_type": "code",
   "execution_count": 302,
   "id": "8978dbc6",
   "metadata": {},
   "outputs": [
    {
     "data": {
      "image/png": "[encoded data removed]",
      "text/plain": [
       "<Figure size 432x288 with 1 Axes>"
      ]
     },
     "metadata": {
      "needs_background": "light"
     },
     "output_type": "display_data"
    }
   ],
   "source": [
    "imgplot = plt.imshow(img, interpolation=\"bicubic\")"
   ]
  },
  {
   "cell_type": "code",
   "execution_count": null,
   "id": "9f6a13c4",
   "metadata": {},
   "outputs": [],
   "source": []
  },
  {
   "cell_type": "code",
   "execution_count": null,
   "id": "1ff2c167",
   "metadata": {},
   "outputs": [],
   "source": [
    "#line cut of the image- vertically and horizontally"
   ]
  },
  {
   "cell_type": "code",
   "execution_count": null,
   "id": "1d9f5c28",
   "metadata": {},
   "outputs": [],
   "source": []
  },
  {
   "cell_type": "code",
   "execution_count": 304,
   "id": "73769dd8",
   "metadata": {},
   "outputs": [
    {
     "data": {
      "text/plain": [
       "<matplotlib.image.AxesImage at 0x1fca89aa4c0>"
      ]
     },
     "execution_count": 304,
     "metadata": {},
     "output_type": "execute_result"
    },
    {
     "data": {
      "image/png": "[encoded data removed]",
      "text/plain": [
       "<Figure size 432x288 with 1 Axes>"
      ]
     },
     "metadata": {
      "needs_background": "light"
     },
     "output_type": "display_data"
    }
   ],
   "source": [
    "plt.imshow(lum_img2, cmap=\"gist_stern\")"
   ]
  },
  {
   "cell_type": "code",
   "execution_count": null,
   "id": "c7ef201e",
   "metadata": {},
   "outputs": [],
   "source": []
  }
 ],
 "metadata": {
  "kernelspec": {
   "display_name": "Python 3 (ipykernel)",
   "language": "python",
   "name": "python3"
  },
  "language_info": {
   "codemirror_mode": {
    "name": "ipython",
    "version": 3
   },
   "file_extension": ".py",
   "mimetype": "text/x-python",
   "name": "python",
   "nbconvert_exporter": "python",
   "pygments_lexer": "ipython3",
   "version": "3.9.7"
  }
 },
 "nbformat": 4,
 "nbformat_minor": 5
}
